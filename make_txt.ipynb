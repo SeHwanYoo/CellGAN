{
 "cells": [
  {
   "cell_type": "code",
   "execution_count": 15,
   "metadata": {},
   "outputs": [],
   "source": [
    "import os\n",
    "from glob import glob\n",
    "import random"
   ]
  },
  {
   "cell_type": "code",
   "execution_count": 6,
   "metadata": {},
   "outputs": [
    {
     "data": {
      "text/plain": [
       "71200"
      ]
     },
     "execution_count": 6,
     "metadata": {},
     "output_type": "execute_result"
    }
   ],
   "source": [
    "imgs = glob('/home/yoos-bii/Desktop/data_tct/train/*/*.png')\n",
    "len(imgs)"
   ]
  },
  {
   "cell_type": "code",
   "execution_count": 7,
   "metadata": {},
   "outputs": [
    {
     "data": {
      "text/plain": [
       "'/home/yoos-bii/Desktop/data_tct/train/7/a2c1d00c9ef175e41ac9a98a0be2d687_24591_11572.png'"
      ]
     },
     "execution_count": 7,
     "metadata": {},
     "output_type": "execute_result"
    }
   ],
   "source": [
    "imgs[0]"
   ]
  },
  {
   "cell_type": "code",
   "execution_count": 13,
   "metadata": {},
   "outputs": [
    {
     "data": {
      "text/plain": [
       "'7/a2c1d00c9ef175e41ac9a98a0be2d687_24591_11572.png'"
      ]
     },
     "execution_count": 13,
     "metadata": {},
     "output_type": "execute_result"
    }
   ],
   "source": [
    "'/'.join(imgs[0].split('/')[-2:])"
   ]
  },
  {
   "cell_type": "code",
   "execution_count": 14,
   "metadata": {},
   "outputs": [],
   "source": [
    "with open('list.txt', 'w') as f:\n",
    "    for img in imgs:\n",
    "        f.write('/'.join(img.split('/')[-2:])+'\\n')"
   ]
  },
  {
   "cell_type": "code",
   "execution_count": null,
   "metadata": {},
   "outputs": [],
   "source": [
    "dataroot = '/home/yoos-bii/Desktop/data_tct/train'\n",
    "\n",
    "with open(os.path.join(dataroot, \"img_list.txt\")) as file:\n",
    "    for line in file:\n",
    "        img_path = os.path.join(dataroot, line.strip()).replace('\\\\', '/')\n",
    "        category = line.split('/')[0]\n",
    "        print(img_path, category)\n",
    "        \n",
    "        \n",
    "        # if category in self.available_categories:\n",
    "        #     class_index = categories[category]\n",
    "        #     self.data.append([img_path, class_index])\n",
    "# random.shuffle(self.data)"
   ]
  },
  {
   "cell_type": "code",
   "execution_count": 1,
   "metadata": {},
   "outputs": [
    {
     "data": {
      "text/plain": [
       "7"
      ]
     },
     "execution_count": 1,
     "metadata": {},
     "output_type": "execute_result"
    }
   ],
   "source": [
    "# aa = [1, 0, 0, 0, 0, 0, 0]\n",
    "# len(aa)\n",
    "\n",
    "\n",
    "for tt in range(15):\n",
    "    kk = []    \n",
    "    for ii in range(15):\n",
    "        if ii == tt:\n",
    "            kk.append(1)\n",
    "        else:\n",
    "            kk.append(0)\n",
    "            \n",
    "    print(kk)"
   ]
  }
 ],
 "metadata": {
  "kernelspec": {
   "display_name": "Python 3",
   "language": "python",
   "name": "python3"
  },
  "language_info": {
   "codemirror_mode": {
    "name": "ipython",
    "version": 3
   },
   "file_extension": ".py",
   "mimetype": "text/x-python",
   "name": "python",
   "nbconvert_exporter": "python",
   "pygments_lexer": "ipython3",
   "version": "3.10.12"
  }
 },
 "nbformat": 4,
 "nbformat_minor": 2
}
