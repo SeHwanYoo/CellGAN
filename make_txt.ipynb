{
 "cells": [
  {
   "cell_type": "code",
<<<<<<< HEAD
   "execution_count": 2,
=======
   "execution_count": 1,
>>>>>>> ea23eb8 (bii_local_pc)
   "metadata": {},
   "outputs": [],
   "source": [
    "import os\n",
    "from glob import glob\n",
    "import random\n",
    "import matplotlib.pyplot as plt\n",
    "import numpy as np"
   ]
  },
  {
   "cell_type": "code",
<<<<<<< HEAD
   "execution_count": 3,
=======
   "execution_count": 2,
>>>>>>> ea23eb8 (bii_local_pc)
   "metadata": {},
   "outputs": [
    {
     "data": {
      "text/plain": [
<<<<<<< HEAD
       "32068"
      ]
     },
     "execution_count": 3,
=======
       "19988"
      ]
     },
     "execution_count": 2,
>>>>>>> ea23eb8 (bii_local_pc)
     "metadata": {},
     "output_type": "execute_result"
    }
   ],
   "source": [
<<<<<<< HEAD
    "imgs = glob('W:/Longjie/GenAI training set/Prostate HE image/Biopsy/QualityControl/*/Training_Patches/*/*.png')\n",
=======
    "imgs = glob('/home/yoos-bii/Desktop/single_cells/single/*/*.png')\n",
>>>>>>> ea23eb8 (bii_local_pc)
    "len(imgs)"
   ]
  },
  {
   "cell_type": "code",
<<<<<<< HEAD
   "execution_count": 4,
=======
   "execution_count": 3,
>>>>>>> ea23eb8 (bii_local_pc)
   "metadata": {},
   "outputs": [
    {
     "data": {
      "text/plain": [
<<<<<<< HEAD
       "['W:/Longjie/GenAI training set/Prostate HE image/Biopsy/QualityControl\\\\P18004_A1\\\\Training_Patches\\\\Good\\\\P18004_A1Loc_10241   4353_FM_6688.1697_BM_0_SM_100_CM_179_TM_8512.3482_AW_0.67377.png',\n",
       " 'W:/Longjie/GenAI training set/Prostate HE image/Biopsy/QualityControl\\\\P18004_A1\\\\Training_Patches\\\\Good\\\\P18004_A1Loc_10241   4609_FM_6417.4543_BM_0_SM_100_CM_159_TM_6034.6082_AW_0.62585.png',\n",
       " 'W:/Longjie/GenAI training set/Prostate HE image/Biopsy/QualityControl\\\\P18004_A1\\\\Training_Patches\\\\Good\\\\P18004_A1Loc_10241   4865_FM_6270.9816_BM_18_SM_100_CM_148_TM_4133.166_AW_0.48853.png',\n",
       " 'W:/Longjie/GenAI training set/Prostate HE image/Biopsy/QualityControl\\\\P18004_A1\\\\Training_Patches\\\\Good\\\\P18004_A1Loc_10241   5121_FM_5973.0524_BM_19_SM_100_CM_170_TM_3864.7753_AW_0.41315.png',\n",
       " 'W:/Longjie/GenAI training set/Prostate HE image/Biopsy/QualityControl\\\\P18004_A1\\\\Training_Patches\\\\Good\\\\P18004_A1Loc_10241   5377_FM_5106.2533_BM_20_SM_100_CM_122_TM_1249.0005_AW_0.31915.png',\n",
       " 'W:/Longjie/GenAI training set/Prostate HE image/Biopsy/QualityControl\\\\P18004_A1\\\\Training_Patches\\\\Good\\\\P18004_A1Loc_10241   7937_FM_5153.5934_BM_0_SM_100_CM_92.02_TM_289.7975_AW_0.11505.png',\n",
       " 'W:/Longjie/GenAI training set/Prostate HE image/Biopsy/QualityControl\\\\P18004_A1\\\\Training_Patches\\\\Good\\\\P18004_A1Loc_10241   8193_FM_7553.2558_BM_7_SM_100_CM_105_TM_1206.0572_AW_0.29724.png',\n",
       " 'W:/Longjie/GenAI training set/Prostate HE image/Biopsy/QualityControl\\\\P18004_A1\\\\Training_Patches\\\\Good\\\\P18004_A1Loc_10241   8449_FM_8653.7412_BM_14_SM_99.9924_CM_159_TM_2672.1776_AW_0.40375.png',\n",
       " 'W:/Longjie/GenAI training set/Prostate HE image/Biopsy/QualityControl\\\\P18004_A1\\\\Training_Patches\\\\Good\\\\P18004_A1Loc_10241   8705_FM_8079.111_BM_21_SM_100_CM_209_TM_8964.962_AW_0.54504.png',\n",
       " 'W:/Longjie/GenAI training set/Prostate HE image/Biopsy/QualityControl\\\\P18004_A1\\\\Training_Patches\\\\Good\\\\P18004_A1Loc_10241   8961_FM_7720.4868_BM_16_SM_100_CM_192_TM_6276.5096_AW_0.62134.png']"
      ]
     },
     "execution_count": 4,
=======
       "'/home/yoos-bii/Desktop/single_cells/single/HSIL/e8aa4ca377d3eeb3d234cb11f1d13613_13216_4747.png'"
      ]
     },
     "execution_count": 3,
>>>>>>> ea23eb8 (bii_local_pc)
     "metadata": {},
     "output_type": "execute_result"
    }
   ],
   "source": [
    "imgs[:10]"
   ]
  },
  {
   "cell_type": "code",
<<<<<<< HEAD
   "execution_count": 11,
   "metadata": {},
   "outputs": [],
   "source": [
    "# os.path.dirname(imgs[0])\n",
    "def get_folder(img):\n",
    "    return os.path.dirname(img).split('\\\\')[-1]"
   ]
  },
  {
   "cell_type": "code",
   "execution_count": 18,
   "metadata": {},
   "outputs": [
    {
     "data": {
      "image/png": "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",
      "text/plain": [
       "<Figure size 2000x1000 with 1 Axes>"
      ]
     },
     "metadata": {},
     "output_type": "display_data"
    }
   ],
   "source": [
    "# get folder name and make barchar \n",
    "folders = [get_folder(img) for img in imgs if get_folder(img) != 'Good']\n",
    "\n",
    "# np.array(folders)\n",
    "unique, counts = np.unique(folders, return_counts=True)\n",
    "# dict(zip(unique, counts))\n",
    "\n",
    "# make bar chart \n",
    "plt.figure(figsize=(20, 10))\n",
    "plt.bar(unique, counts)\n",
    "# plt.xticks(rotation=90)\n",
    "# show text \n",
    "for i in range(len(unique)):\n",
    "    plt.text(i, counts[i], str(counts[i]), ha='center', va='bottom')\n",
    "plt.show()\n"
   ]
  },
  {
   "cell_type": "code",
   "execution_count": 21,
   "metadata": {},
   "outputs": [
    {
     "data": {
      "text/plain": [
       "array(['Artefacts', 'Low_Contrast', 'Low_Texture', 'Out_of_Focus'],\n",
       "      dtype='<U12')"
      ]
     },
     "execution_count": 21,
     "metadata": {},
     "output_type": "execute_result"
    }
   ],
   "source": [
    "unique"
   ]
  },
  {
   "cell_type": "code",
   "execution_count": 11,
   "metadata": {},
   "outputs": [
    {
     "name": "stdout",
     "output_type": "stream",
     "text": [
      "W:/Longjie/GenAI training set/Prostate HE image/Biopsy/QualityControl\\P18004_A1\\Training_Patches\\Good\\P18004_A1Loc_10241   4353_FM_6688.1697_BM_0_SM_100_CM_179_TM_8512.3482_AW_0.67377.png\n",
      "['Good', 'P18004_A1Loc_10241   4353_FM_6688.1697_BM_0_SM_100_CM_179_TM_8512.3482_AW_0.67377.png']\n",
      "Good/P18004_A1Loc_10241   4353_FM_6688.1697_BM_0_SM_100_CM_179_TM_8512.3482_AW_0.67377.png\n"
     ]
    }
   ],
   "source": [
    "for img in imgs: \n",
    "    print(img)\n",
    "    print(img.split('\\\\')[-2:])\n",
    "\n",
    "    # make str from list \n",
    "    print('/'.join(img.split('\\\\')[-2:]))\n",
    "\n",
    "    break"
   ]
  },
  {
   "cell_type": "code",
   "execution_count": 20,
   "metadata": {},
   "outputs": [],
   "source": [
    "# make text list for all imgs \n",
    "with open('W:/Longjie/GenAI training set/Prostate HE image/Biopsy/QualityControl/Training_Patches.txt', 'w') as f:\n",
    "    for img in imgs:\n",
    "        f.write('/'.join(img.split('\\\\')[-2:]) + '\\n')"
   ]
  },
  {
   "cell_type": "code",
   "execution_count": 3,
   "metadata": {},
   "outputs": [
    {
     "data": {
      "text/plain": [
       "'W:/Sehwan/data/single_cells/single_cells/single\\\\AGC\\\\0378b5a5bdab41e1dca30a00e93e6617_15280_15245.png'"
      ]
     },
     "execution_count": 3,
     "metadata": {},
     "output_type": "execute_result"
    }
   ],
   "source": [
    "# imgs[0]"
   ]
  },
  {
   "cell_type": "code",
   "execution_count": 5,
   "metadata": {},
   "outputs": [
    {
     "data": {
      "text/plain": [
       "'AGC/0378b5a5bdab41e1dca30a00e93e6617_15280_15245.png'"
      ]
     },
     "execution_count": 5,
     "metadata": {},
     "output_type": "execute_result"
    }
   ],
   "source": [
    "'/'.join(imgs[0].split('\\\\')[-2:])"
   ]
  },
  {
   "cell_type": "code",
   "execution_count": 8,
   "metadata": {},
   "outputs": [],
   "source": [
    "with open('W:/Sehwan/data/single_cells/single_cells/single/list.txt', 'w') as f:\n",
    "    for img in imgs:\n",
    "        f.write('/'.join(img.split('\\\\')[-2:])+'\\n')"
=======
   "execution_count": 4,
   "metadata": {},
   "outputs": [
    {
     "data": {
      "text/plain": [
       "'HSIL/e8aa4ca377d3eeb3d234cb11f1d13613_13216_4747.png'"
      ]
     },
     "execution_count": 4,
     "metadata": {},
     "output_type": "execute_result"
    }
   ],
   "source": [
    "'/'.join(imgs[0].split('/')[-2:])"
   ]
  },
  {
   "cell_type": "code",
   "execution_count": 5,
   "metadata": {},
   "outputs": [],
   "source": [
    "with open('/home/yoos-bii/Desktop/single_cells/single/test_list.txt', 'w') as f:\n",
    "    for img in imgs:\n",
    "        category = img.split('/')[-2]\n",
    "        \n",
    "        if category in ['ASC-US', 'HSIL', 'LSIL', 'NILM']:\n",
    "            f.write('/'.join(img.split('/')[-2:])+'\\n')"
>>>>>>> ea23eb8 (bii_local_pc)
   ]
  },
  {
   "cell_type": "code",
   "execution_count": null,
   "metadata": {},
   "outputs": [],
   "source": [
    "dataroot = 'W:/Sehwan/data/single_cells/single_cells/single'\n",
    "\n",
    "with open(os.path.join(dataroot, \"img_list.txt\")) as file:\n",
    "    for line in file:\n",
    "        img_path = os.path.join(dataroot, line.strip()).replace('\\\\', '/')\n",
    "        category = line.split('/')[0]\n",
    "        print(img_path, category)\n",
    "        \n",
    "        \n",
    "        # if category in self.available_categories:\n",
    "        #     class_index = categories[category]\n",
    "        #     self.data.append([img_path, class_index])\n",
    "# random.shuffle(self.data)"
   ]
  },
  {
   "cell_type": "code",
   "execution_count": 1,
   "metadata": {},
   "outputs": [
    {
     "data": {
      "text/plain": [
       "7"
      ]
     },
     "execution_count": 1,
     "metadata": {},
     "output_type": "execute_result"
    }
   ],
   "source": [
    "# aa = [1, 0, 0, 0, 0, 0, 0]\n",
    "# len(aa)\n",
    "\n",
    "\n",
    "for tt in range(15):\n",
    "    kk = []    \n",
    "    for ii in range(15):\n",
    "        if ii == tt:\n",
    "            kk.append(1)\n",
    "        else:\n",
    "            kk.append(0)\n",
    "            \n",
    "    print(kk)"
   ]
  }
 ],
 "metadata": {
  "kernelspec": {
   "display_name": "Python 3",
   "language": "python",
   "name": "python3"
  },
  "language_info": {
   "codemirror_mode": {
    "name": "ipython",
    "version": 3
   },
   "file_extension": ".py",
   "mimetype": "text/x-python",
   "name": "python",
   "nbconvert_exporter": "python",
   "pygments_lexer": "ipython3",
   "version": "3.12.2"
  }
 },
 "nbformat": 4,
 "nbformat_minor": 2
}
